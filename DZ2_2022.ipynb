{
 "cells": [
  {
   "cell_type": "code",
   "execution_count": 1,
   "id": "84b2e902",
   "metadata": {},
   "outputs": [],
   "source": [
    "import pysam"
   ]
  },
  {
   "cell_type": "code",
   "execution_count": 3,
   "id": "0c158f74",
   "metadata": {},
   "outputs": [],
   "source": [
    "al_file = pysam.AlignmentFile(\"/home/zile/merged-tumor.bam\")"
   ]
  },
  {
   "cell_type": "code",
   "execution_count": 4,
   "id": "e693a06c",
   "metadata": {
    "scrolled": true
   },
   "outputs": [
    {
     "ename": "TypeError",
     "evalue": "'pysam.libcalignmentfile.IteratorRowAllRefs' object is not subscriptable",
     "output_type": "error",
     "traceback": [
      "\u001b[0;31m---------------------------------------------------------------------------\u001b[0m",
      "\u001b[0;31mTypeError\u001b[0m                                 Traceback (most recent call last)",
      "Input \u001b[0;32mIn [4]\u001b[0m, in \u001b[0;36m<cell line: 1>\u001b[0;34m()\u001b[0m\n\u001b[0;32m----> 1\u001b[0m first_read \u001b[38;5;241m=\u001b[39m \u001b[43mal_file\u001b[49m\u001b[38;5;241;43m.\u001b[39;49m\u001b[43mfetch\u001b[49m\u001b[43m(\u001b[49m\u001b[43m)\u001b[49m\u001b[43m[\u001b[49m\u001b[38;5;241;43m0\u001b[39;49m\u001b[43m]\u001b[49m\n",
      "\u001b[0;31mTypeError\u001b[0m: 'pysam.libcalignmentfile.IteratorRowAllRefs' object is not subscriptable"
     ]
    }
   ],
   "source": [
    "first_read = al_file.fetch()[0]"
   ]
  },
  {
   "cell_type": "code",
   "execution_count": 7,
   "id": "1eaa6afb",
   "metadata": {},
   "outputs": [],
   "source": [
    "for read in al_file.fetch():\n",
    "    first_read = read\n",
    "    break"
   ]
  },
  {
   "cell_type": "code",
   "execution_count": 8,
   "id": "a3de9fc5",
   "metadata": {},
   "outputs": [
    {
     "name": "stdout",
     "output_type": "stream",
     "text": [
      "C0HVYACXX120402:7:1207:5722:57044\t1187\t#20\t9483249\t27\t76M\t#20\t9483382\t209\tTTTTCAAACAGTATCTATGCCTGCCAAATGTGAACATATAAAAAAAAACCAGAATGTGCCATTCTGATTTAAACTG\tarray('B', [28, 28, 27, 29, 31, 30, 31, 31, 29, 31, 35, 30, 29, 31, 34, 30, 29, 23, 41, 32, 20, 30, 29, 34, 34, 29, 30, 31, 30, 30, 30, 33, 33, 26, 39, 12, 25, 19, 32, 30, 35, 28, 35, 33, 23, 33, 35, 36, 30, 38, 33, 41, 34, 35, 31, 33, 23, 30, 30, 36, 27, 32, 29, 34, 35, 41, 33, 31, 33, 29, 32, 32, 31, 31, 31, 34])\t[('XA', 'GL000217.1,-110754,76M,1;'), ('BD', 'NNNNNNNNNNNNNNNNNNNNNNNNNNNNNNNNNNNNNNNNNNNNNNNNNNNNNNNNNNNNNNNNNNNNNNNNNNNN'), ('MD', '76'), ('RG', '1'), ('BI', 'NNNNNNNNNNNNNNNNNNNNNNNNNNNNNNNNNNNNNNNNNNNNNNNNNNNNNNNNNNNNNNNNNNNNNNNNNNNN'), ('NM', 0), ('MQ', 27), ('AS', 76), ('XS', 71)]\n"
     ]
    }
   ],
   "source": [
    "print(first_read)"
   ]
  },
  {
   "cell_type": "code",
   "execution_count": 9,
   "id": "4fe7dd56",
   "metadata": {},
   "outputs": [
    {
     "name": "stdout",
     "output_type": "stream",
     "text": [
      "1187\n"
     ]
    }
   ],
   "source": [
    "print(first_read.flag)"
   ]
  },
  {
   "cell_type": "code",
   "execution_count": 13,
   "id": "014e54f0",
   "metadata": {},
   "outputs": [
    {
     "name": "stdout",
     "output_type": "stream",
     "text": [
      "Unmapped reads:  17765\n",
      "Total reads:  2921629\n",
      "Number of mapping quality 0:  126628\n",
      "Average mapping quality:  55.91379158681681\n",
      "Average mapping quality without 0:  58.446975510921106\n"
     ]
    }
   ],
   "source": [
    "total_reads = 0\n",
    "unmapped_reads = 0\n",
    "num_mapping_quality_0 = 0\n",
    "avg_mapping_quality = 0\n",
    "avg_mapping_quality_without_0 = 0\n",
    "for read in al_file.fetch():\n",
    "    if read.is_unmapped:\n",
    "        unmapped_reads = unmapped_reads + 1\n",
    "    if read.mapping_quality == 0:\n",
    "        num_mapping_quality_0 = num_mapping_quality_0 + 1\n",
    "    else:\n",
    "        avg_mapping_quality_without_0 = avg_mapping_quality_without_0 + read.mapping_quality\n",
    "    avg_mapping_quality = avg_mapping_quality + read.mapping_quality\n",
    "    total_reads = total_reads + 1\n",
    "print(\"Unmapped reads: \", unmapped_reads)\n",
    "print(\"Total reads: \", total_reads)\n",
    "print(\"Number of mapping quality 0: \", num_mapping_quality_0)\n",
    "print(\"Average mapping quality: \", float(avg_mapping_quality) / total_reads)\n",
    "print(\"Average mapping quality without 0: \", float(avg_mapping_quality_without_0) / (total_reads - num_mapping_quality_0))"
   ]
  },
  {
   "cell_type": "code",
   "execution_count": null,
   "id": "22829544",
   "metadata": {},
   "outputs": [],
   "source": []
  }
 ],
 "metadata": {
  "kernelspec": {
   "display_name": "Python 3 (ipykernel)",
   "language": "python",
   "name": "python3"
  },
  "language_info": {
   "codemirror_mode": {
    "name": "ipython",
    "version": 3
   },
   "file_extension": ".py",
   "mimetype": "text/x-python",
   "name": "python",
   "nbconvert_exporter": "python",
   "pygments_lexer": "ipython3",
   "version": "3.8.10"
  }
 },
 "nbformat": 4,
 "nbformat_minor": 5
}
